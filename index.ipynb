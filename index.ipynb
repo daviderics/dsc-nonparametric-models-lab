{
 "cells": [
  {
   "cell_type": "markdown",
   "metadata": {},
   "source": [
    "# Nonparametric ML Models - Cumulative Lab\n",
    "\n",
    "## Introduction\n",
    "\n",
    "In this cumulative lab, you will apply two nonparametric models you have just learned — k-nearest neighbors and decision trees — to the forest cover dataset.\n",
    "\n",
    "## Objectives\n",
    "\n",
    "* Practice identifying and applying appropriate preprocessing steps\n",
    "* Perform an iterative modeling process, starting from a baseline model\n",
    "* Explore multiple model algorithms, and tune their hyperparameters\n",
    "* Practice choosing a final model across multiple model algorithms and evaluating its performance"
   ]
  },
  {
   "cell_type": "markdown",
   "metadata": {},
   "source": [
    "## Your Task: Complete an End-to-End ML Process with Nonparametric Models on the Forest Cover Dataset\n",
    "\n",
    "![line of pine trees](images/trees.jpg)\n",
    "\n",
    "Photo by <a href=\"https://unsplash.com/@michaelbenz?utm_source=unsplash&utm_medium=referral&utm_content=creditCopyText\">Michael Benz</a> on <a href=\"/s/photos/forest?utm_source=unsplash&utm_medium=referral&utm_content=creditCopyText\">Unsplash</a>"
   ]
  },
  {
   "cell_type": "markdown",
   "metadata": {},
   "source": [
    "### Business and Data Understanding\n",
    "\n",
    "To repeat the previous description:\n",
    "\n",
    "> Here we will be using an adapted version of the forest cover dataset from the [UCI Machine Learning Repository](https://archive.ics.uci.edu/ml/datasets/covertype). Each record represents a 30 x 30 meter cell of land within Roosevelt National Forest in northern Colorado, which has been labeled as `Cover_Type` 1 for \"Cottonwood/Willow\" and `Cover_Type` 0 for \"Ponderosa Pine\". (The original dataset contained 7 cover types but we have simplified it.)\n",
    "\n",
    "The task is to predict the `Cover_Type` based on the available cartographic variables:"
   ]
  },
  {
   "cell_type": "code",
   "execution_count": 1,
   "metadata": {},
   "outputs": [
    {
     "data": {
      "text/html": [
       "<div>\n",
       "<style scoped>\n",
       "    .dataframe tbody tr th:only-of-type {\n",
       "        vertical-align: middle;\n",
       "    }\n",
       "\n",
       "    .dataframe tbody tr th {\n",
       "        vertical-align: top;\n",
       "    }\n",
       "\n",
       "    .dataframe thead th {\n",
       "        text-align: right;\n",
       "    }\n",
       "</style>\n",
       "<table border=\"1\" class=\"dataframe\">\n",
       "  <thead>\n",
       "    <tr style=\"text-align: right;\">\n",
       "      <th></th>\n",
       "      <th>Elevation</th>\n",
       "      <th>Aspect</th>\n",
       "      <th>Slope</th>\n",
       "      <th>Horizontal_Distance_To_Hydrology</th>\n",
       "      <th>Vertical_Distance_To_Hydrology</th>\n",
       "      <th>Horizontal_Distance_To_Roadways</th>\n",
       "      <th>Hillshade_9am</th>\n",
       "      <th>Hillshade_Noon</th>\n",
       "      <th>Hillshade_3pm</th>\n",
       "      <th>Horizontal_Distance_To_Fire_Points</th>\n",
       "      <th>...</th>\n",
       "      <th>Soil_Type_31</th>\n",
       "      <th>Soil_Type_32</th>\n",
       "      <th>Soil_Type_33</th>\n",
       "      <th>Soil_Type_34</th>\n",
       "      <th>Soil_Type_35</th>\n",
       "      <th>Soil_Type_36</th>\n",
       "      <th>Soil_Type_37</th>\n",
       "      <th>Soil_Type_38</th>\n",
       "      <th>Soil_Type_39</th>\n",
       "      <th>Cover_Type</th>\n",
       "    </tr>\n",
       "  </thead>\n",
       "  <tbody>\n",
       "    <tr>\n",
       "      <th>0</th>\n",
       "      <td>2553</td>\n",
       "      <td>235</td>\n",
       "      <td>17</td>\n",
       "      <td>351</td>\n",
       "      <td>95</td>\n",
       "      <td>780</td>\n",
       "      <td>188</td>\n",
       "      <td>253</td>\n",
       "      <td>199</td>\n",
       "      <td>1410</td>\n",
       "      <td>...</td>\n",
       "      <td>0</td>\n",
       "      <td>0</td>\n",
       "      <td>0</td>\n",
       "      <td>0</td>\n",
       "      <td>0</td>\n",
       "      <td>0</td>\n",
       "      <td>0</td>\n",
       "      <td>0</td>\n",
       "      <td>0</td>\n",
       "      <td>0</td>\n",
       "    </tr>\n",
       "    <tr>\n",
       "      <th>1</th>\n",
       "      <td>2011</td>\n",
       "      <td>344</td>\n",
       "      <td>17</td>\n",
       "      <td>313</td>\n",
       "      <td>29</td>\n",
       "      <td>404</td>\n",
       "      <td>183</td>\n",
       "      <td>211</td>\n",
       "      <td>164</td>\n",
       "      <td>300</td>\n",
       "      <td>...</td>\n",
       "      <td>0</td>\n",
       "      <td>0</td>\n",
       "      <td>0</td>\n",
       "      <td>0</td>\n",
       "      <td>0</td>\n",
       "      <td>0</td>\n",
       "      <td>0</td>\n",
       "      <td>0</td>\n",
       "      <td>0</td>\n",
       "      <td>0</td>\n",
       "    </tr>\n",
       "    <tr>\n",
       "      <th>2</th>\n",
       "      <td>2022</td>\n",
       "      <td>24</td>\n",
       "      <td>13</td>\n",
       "      <td>391</td>\n",
       "      <td>42</td>\n",
       "      <td>509</td>\n",
       "      <td>212</td>\n",
       "      <td>212</td>\n",
       "      <td>134</td>\n",
       "      <td>421</td>\n",
       "      <td>...</td>\n",
       "      <td>0</td>\n",
       "      <td>0</td>\n",
       "      <td>0</td>\n",
       "      <td>0</td>\n",
       "      <td>0</td>\n",
       "      <td>0</td>\n",
       "      <td>0</td>\n",
       "      <td>0</td>\n",
       "      <td>0</td>\n",
       "      <td>0</td>\n",
       "    </tr>\n",
       "    <tr>\n",
       "      <th>3</th>\n",
       "      <td>2038</td>\n",
       "      <td>50</td>\n",
       "      <td>17</td>\n",
       "      <td>408</td>\n",
       "      <td>71</td>\n",
       "      <td>474</td>\n",
       "      <td>226</td>\n",
       "      <td>200</td>\n",
       "      <td>102</td>\n",
       "      <td>283</td>\n",
       "      <td>...</td>\n",
       "      <td>0</td>\n",
       "      <td>0</td>\n",
       "      <td>0</td>\n",
       "      <td>0</td>\n",
       "      <td>0</td>\n",
       "      <td>0</td>\n",
       "      <td>0</td>\n",
       "      <td>0</td>\n",
       "      <td>0</td>\n",
       "      <td>0</td>\n",
       "    </tr>\n",
       "    <tr>\n",
       "      <th>4</th>\n",
       "      <td>2018</td>\n",
       "      <td>341</td>\n",
       "      <td>27</td>\n",
       "      <td>351</td>\n",
       "      <td>34</td>\n",
       "      <td>390</td>\n",
       "      <td>152</td>\n",
       "      <td>188</td>\n",
       "      <td>168</td>\n",
       "      <td>190</td>\n",
       "      <td>...</td>\n",
       "      <td>0</td>\n",
       "      <td>0</td>\n",
       "      <td>0</td>\n",
       "      <td>0</td>\n",
       "      <td>0</td>\n",
       "      <td>0</td>\n",
       "      <td>0</td>\n",
       "      <td>0</td>\n",
       "      <td>0</td>\n",
       "      <td>0</td>\n",
       "    </tr>\n",
       "    <tr>\n",
       "      <th>...</th>\n",
       "      <td>...</td>\n",
       "      <td>...</td>\n",
       "      <td>...</td>\n",
       "      <td>...</td>\n",
       "      <td>...</td>\n",
       "      <td>...</td>\n",
       "      <td>...</td>\n",
       "      <td>...</td>\n",
       "      <td>...</td>\n",
       "      <td>...</td>\n",
       "      <td>...</td>\n",
       "      <td>...</td>\n",
       "      <td>...</td>\n",
       "      <td>...</td>\n",
       "      <td>...</td>\n",
       "      <td>...</td>\n",
       "      <td>...</td>\n",
       "      <td>...</td>\n",
       "      <td>...</td>\n",
       "      <td>...</td>\n",
       "      <td>...</td>\n",
       "    </tr>\n",
       "    <tr>\n",
       "      <th>38496</th>\n",
       "      <td>2396</td>\n",
       "      <td>153</td>\n",
       "      <td>20</td>\n",
       "      <td>85</td>\n",
       "      <td>17</td>\n",
       "      <td>108</td>\n",
       "      <td>240</td>\n",
       "      <td>237</td>\n",
       "      <td>118</td>\n",
       "      <td>837</td>\n",
       "      <td>...</td>\n",
       "      <td>0</td>\n",
       "      <td>0</td>\n",
       "      <td>0</td>\n",
       "      <td>0</td>\n",
       "      <td>0</td>\n",
       "      <td>0</td>\n",
       "      <td>0</td>\n",
       "      <td>0</td>\n",
       "      <td>0</td>\n",
       "      <td>0</td>\n",
       "    </tr>\n",
       "    <tr>\n",
       "      <th>38497</th>\n",
       "      <td>2391</td>\n",
       "      <td>152</td>\n",
       "      <td>19</td>\n",
       "      <td>67</td>\n",
       "      <td>12</td>\n",
       "      <td>95</td>\n",
       "      <td>240</td>\n",
       "      <td>237</td>\n",
       "      <td>119</td>\n",
       "      <td>845</td>\n",
       "      <td>...</td>\n",
       "      <td>0</td>\n",
       "      <td>0</td>\n",
       "      <td>0</td>\n",
       "      <td>0</td>\n",
       "      <td>0</td>\n",
       "      <td>0</td>\n",
       "      <td>0</td>\n",
       "      <td>0</td>\n",
       "      <td>0</td>\n",
       "      <td>0</td>\n",
       "    </tr>\n",
       "    <tr>\n",
       "      <th>38498</th>\n",
       "      <td>2386</td>\n",
       "      <td>159</td>\n",
       "      <td>17</td>\n",
       "      <td>60</td>\n",
       "      <td>7</td>\n",
       "      <td>90</td>\n",
       "      <td>236</td>\n",
       "      <td>241</td>\n",
       "      <td>130</td>\n",
       "      <td>854</td>\n",
       "      <td>...</td>\n",
       "      <td>0</td>\n",
       "      <td>0</td>\n",
       "      <td>0</td>\n",
       "      <td>0</td>\n",
       "      <td>0</td>\n",
       "      <td>0</td>\n",
       "      <td>0</td>\n",
       "      <td>0</td>\n",
       "      <td>0</td>\n",
       "      <td>0</td>\n",
       "    </tr>\n",
       "    <tr>\n",
       "      <th>38499</th>\n",
       "      <td>2384</td>\n",
       "      <td>170</td>\n",
       "      <td>15</td>\n",
       "      <td>60</td>\n",
       "      <td>5</td>\n",
       "      <td>90</td>\n",
       "      <td>230</td>\n",
       "      <td>245</td>\n",
       "      <td>143</td>\n",
       "      <td>864</td>\n",
       "      <td>...</td>\n",
       "      <td>0</td>\n",
       "      <td>0</td>\n",
       "      <td>0</td>\n",
       "      <td>0</td>\n",
       "      <td>0</td>\n",
       "      <td>0</td>\n",
       "      <td>0</td>\n",
       "      <td>0</td>\n",
       "      <td>0</td>\n",
       "      <td>0</td>\n",
       "    </tr>\n",
       "    <tr>\n",
       "      <th>38500</th>\n",
       "      <td>2383</td>\n",
       "      <td>165</td>\n",
       "      <td>13</td>\n",
       "      <td>60</td>\n",
       "      <td>4</td>\n",
       "      <td>67</td>\n",
       "      <td>231</td>\n",
       "      <td>244</td>\n",
       "      <td>141</td>\n",
       "      <td>875</td>\n",
       "      <td>...</td>\n",
       "      <td>0</td>\n",
       "      <td>0</td>\n",
       "      <td>0</td>\n",
       "      <td>0</td>\n",
       "      <td>0</td>\n",
       "      <td>0</td>\n",
       "      <td>0</td>\n",
       "      <td>0</td>\n",
       "      <td>0</td>\n",
       "      <td>0</td>\n",
       "    </tr>\n",
       "  </tbody>\n",
       "</table>\n",
       "<p>38501 rows × 53 columns</p>\n",
       "</div>"
      ],
      "text/plain": [
       "       Elevation  Aspect  Slope  Horizontal_Distance_To_Hydrology  \\\n",
       "0           2553     235     17                               351   \n",
       "1           2011     344     17                               313   \n",
       "2           2022      24     13                               391   \n",
       "3           2038      50     17                               408   \n",
       "4           2018     341     27                               351   \n",
       "...          ...     ...    ...                               ...   \n",
       "38496       2396     153     20                                85   \n",
       "38497       2391     152     19                                67   \n",
       "38498       2386     159     17                                60   \n",
       "38499       2384     170     15                                60   \n",
       "38500       2383     165     13                                60   \n",
       "\n",
       "       Vertical_Distance_To_Hydrology  Horizontal_Distance_To_Roadways  \\\n",
       "0                                  95                              780   \n",
       "1                                  29                              404   \n",
       "2                                  42                              509   \n",
       "3                                  71                              474   \n",
       "4                                  34                              390   \n",
       "...                               ...                              ...   \n",
       "38496                              17                              108   \n",
       "38497                              12                               95   \n",
       "38498                               7                               90   \n",
       "38499                               5                               90   \n",
       "38500                               4                               67   \n",
       "\n",
       "       Hillshade_9am  Hillshade_Noon  Hillshade_3pm  \\\n",
       "0                188             253            199   \n",
       "1                183             211            164   \n",
       "2                212             212            134   \n",
       "3                226             200            102   \n",
       "4                152             188            168   \n",
       "...              ...             ...            ...   \n",
       "38496            240             237            118   \n",
       "38497            240             237            119   \n",
       "38498            236             241            130   \n",
       "38499            230             245            143   \n",
       "38500            231             244            141   \n",
       "\n",
       "       Horizontal_Distance_To_Fire_Points  ...  Soil_Type_31  Soil_Type_32  \\\n",
       "0                                    1410  ...             0             0   \n",
       "1                                     300  ...             0             0   \n",
       "2                                     421  ...             0             0   \n",
       "3                                     283  ...             0             0   \n",
       "4                                     190  ...             0             0   \n",
       "...                                   ...  ...           ...           ...   \n",
       "38496                                 837  ...             0             0   \n",
       "38497                                 845  ...             0             0   \n",
       "38498                                 854  ...             0             0   \n",
       "38499                                 864  ...             0             0   \n",
       "38500                                 875  ...             0             0   \n",
       "\n",
       "       Soil_Type_33  Soil_Type_34  Soil_Type_35  Soil_Type_36  Soil_Type_37  \\\n",
       "0                 0             0             0             0             0   \n",
       "1                 0             0             0             0             0   \n",
       "2                 0             0             0             0             0   \n",
       "3                 0             0             0             0             0   \n",
       "4                 0             0             0             0             0   \n",
       "...             ...           ...           ...           ...           ...   \n",
       "38496             0             0             0             0             0   \n",
       "38497             0             0             0             0             0   \n",
       "38498             0             0             0             0             0   \n",
       "38499             0             0             0             0             0   \n",
       "38500             0             0             0             0             0   \n",
       "\n",
       "       Soil_Type_38  Soil_Type_39  Cover_Type  \n",
       "0                 0             0           0  \n",
       "1                 0             0           0  \n",
       "2                 0             0           0  \n",
       "3                 0             0           0  \n",
       "4                 0             0           0  \n",
       "...             ...           ...         ...  \n",
       "38496             0             0           0  \n",
       "38497             0             0           0  \n",
       "38498             0             0           0  \n",
       "38499             0             0           0  \n",
       "38500             0             0           0  \n",
       "\n",
       "[38501 rows x 53 columns]"
      ]
     },
     "execution_count": 1,
     "metadata": {},
     "output_type": "execute_result"
    }
   ],
   "source": [
    "# Run this cell without changes\n",
    "import pandas as pd\n",
    "\n",
    "df = pd.read_csv('data/forest_cover.csv')\n",
    "df"
   ]
  },
  {
   "cell_type": "markdown",
   "metadata": {},
   "source": [
    "> As you can see, we have over 38,000 rows, each with 52 feature columns and 1 target column:\n",
    "\n",
    "> * `Elevation`: Elevation in meters\n",
    "> * `Aspect`: Aspect in degrees azimuth\n",
    "> * `Slope`: Slope in degrees\n",
    "> * `Horizontal_Distance_To_Hydrology`: Horizontal dist to nearest surface water features in meters\n",
    "> * `Vertical_Distance_To_Hydrology`: Vertical dist to nearest surface water features in meters\n",
    "> * `Horizontal_Distance_To_Roadways`: Horizontal dist to nearest roadway in meters\n",
    "> * `Hillshade_9am`: Hillshade index at 9am, summer solstice\n",
    "> * `Hillshade_Noon`: Hillshade index at noon, summer solstice\n",
    "> * `Hillshade_3pm`: Hillshade index at 3pm, summer solstice\n",
    "> * `Horizontal_Distance_To_Fire_Points`: Horizontal dist to nearest wildfire ignition points, meters\n",
    "> * `Wilderness_Area_x`: Wilderness area designation (3 columns)\n",
    "> * `Soil_Type_x`: Soil Type designation (39 columns)\n",
    "> * `Cover_Type`: 1 for cottonwood/willow, 0 for ponderosa pine\n",
    "\n",
    "This is also an imbalanced dataset, since cottonwood/willow trees are relatively rare in this forest:"
   ]
  },
  {
   "cell_type": "code",
   "execution_count": 2,
   "metadata": {},
   "outputs": [
    {
     "name": "stdout",
     "output_type": "stream",
     "text": [
      "Raw Counts\n",
      "0    35754\n",
      "1     2747\n",
      "Name: Cover_Type, dtype: int64\n",
      "\n",
      "Percentages\n",
      "0    0.928651\n",
      "1    0.071349\n",
      "Name: Cover_Type, dtype: float64\n"
     ]
    }
   ],
   "source": [
    "# Run this cell without changes\n",
    "print(\"Raw Counts\")\n",
    "print(df[\"Cover_Type\"].value_counts())\n",
    "print()\n",
    "print(\"Percentages\")\n",
    "print(df[\"Cover_Type\"].value_counts(normalize=True))"
   ]
  },
  {
   "cell_type": "markdown",
   "metadata": {},
   "source": [
    "Thus, a baseline model that always chose the majority class would have an accuracy of over 92%. Therefore we will want to report additional metrics at the end."
   ]
  },
  {
   "cell_type": "markdown",
   "metadata": {},
   "source": [
    "### Previous Best Model\n",
    "\n",
    "In a previous lab, we used SMOTE to create additional synthetic data, then tuned the hyperparameters of a logistic regression model to get the following final model metrics:\n",
    "\n",
    "* **Log loss:** 0.13031294393913376\n",
    "* **Accuracy:** 0.9456679825472678\n",
    "* **Precision:** 0.6659919028340081\n",
    "* **Recall:** 0.47889374090247455\n",
    "\n",
    "In this lab, you will try to beat those scores using more-complex, nonparametric models.\n",
    "\n",
    "### Modeling\n",
    "\n",
    "Although you may be aware of some additional model algorithms available from scikit-learn, for this lab you will be focusing on two of them: k-nearest neighbors and decision trees. Here are some reminders about these models:\n",
    "\n",
    "#### kNN - [documentation here](https://scikit-learn.org/stable/modules/generated/sklearn.neighbors.KNeighborsClassifier.html)\n",
    "\n",
    "This algorithm — unlike linear models or tree-based models — does not emphasize learning the relationship between the features and the target. Instead, for a given test record, it finds the most similar records in the training set and returns an average of their target values.\n",
    "\n",
    "* **Training speed:** Fast. In theory it's just saving the training data for later, although the scikit-learn implementation has some additional logic \"under the hood\" to make prediction faster.\n",
    "* **Prediction speed:** Very slow. The model has to look at every record in the training set to find the k closest to the new record.\n",
    "* **Requires scaling:** Yes. The algorithm to find the nearest records is distance-based, so it matters that distances are all on the same scale.\n",
    "* **Key hyperparameters:** `n_neighbors` (how many nearest neighbors to find; too few neighbors leads to overfitting, too many leads to underfitting), `p` and `metric` (what kind of distance to use in defining \"nearest\" neighbors)\n",
    "\n",
    "#### Decision Trees - [documentation here](https://scikit-learn.org/stable/modules/generated/sklearn.tree.DecisionTreeClassifier.html)\n",
    "\n",
    "Similar to linear models (and unlike kNN), this algorithm emphasizes learning the relationship between the features and the target. However, unlike a linear model that tries to find linear relationships between each of the features and the target, decision trees look for ways to split the data based on features to decrease the entropy of the target in each split.\n",
    "\n",
    "* **Training speed:** Slow. The model is considering splits based on as many as all of the available features, and it can split on the same feature multiple times. This requires exponential computational time that increases based on the number of columns as well as the number of rows.\n",
    "* **Prediction speed:** Medium fast. Producing a prediction with a decision tree means applying several conditional statements, which is slower than something like logistic regression but faster than kNN.\n",
    "* **Requires scaling:** No. This model is not distance-based. You also can use a `LabelEncoder` rather than `OneHotEncoder` for categorical data, since this algorithm doesn't necessarily assume that the distance between `1` and `2` is the same as the distance between `2` and `3`.\n",
    "* **Key hyperparameters:** Many features relating to \"pruning\" the tree. By default they are set so the tree can overfit, and by setting them higher or lower (depending on the hyperparameter) you can reduce overfitting, but too much will lead to underfitting. These are: `max_depth`, `min_samples_split`, `min_samples_leaf`, `min_weight_fraction_leaf`, `max_features`, `max_leaf_nodes`, and `min_impurity_decrease`. You can also try changing the `criterion` to \"entropy\" or the `splitter` to \"random\" if you want to change the splitting logic."
   ]
  },
  {
   "cell_type": "markdown",
   "metadata": {},
   "source": [
    "### Requirements\n",
    "\n",
    "#### 1. Prepare the Data for Modeling\n",
    "\n",
    "#### 2. Build a Baseline kNN Model\n",
    "\n",
    "#### 3. Build Iterative Models to Find the Best kNN Model\n",
    "\n",
    "#### 4. Build a Baseline Decision Tree Model\n",
    "\n",
    "#### 5. Build Iterative Models to Find the Best Decision Tree Model\n",
    "\n",
    "#### 6. Choose and Evaluate an Overall Best Model"
   ]
  },
  {
   "cell_type": "markdown",
   "metadata": {},
   "source": [
    "## 1. Prepare the Data for Modeling\n",
    "\n",
    "The target is `Cover_Type`. In the cell below, split `df` into `X` and `y`, then perform a train-test split with `random_state=42` and `stratify=y` to create variables with the standard `X_train`, `X_test`, `y_train`, `y_test` names.\n",
    "\n",
    "Include the relevant imports as you go."
   ]
  },
  {
   "cell_type": "code",
   "execution_count": 3,
   "metadata": {},
   "outputs": [],
   "source": [
    "from sklearn.model_selection import train_test_split"
   ]
  },
  {
   "cell_type": "code",
   "execution_count": 4,
   "metadata": {},
   "outputs": [],
   "source": [
    "# Your code here\n",
    "y = df['Cover_Type']\n",
    "X = df.drop(columns='Cover_Type')\n",
    "\n",
    "X_train, X_test, y_train, y_test = train_test_split(X, y, random_state=42, stratify=y)"
   ]
  },
  {
   "cell_type": "markdown",
   "metadata": {},
   "source": [
    "Now, instantiate a `StandardScaler`, fit it on `X_train`, and create new variables `X_train_scaled` and `X_test_scaled` containing values transformed with the scaler."
   ]
  },
  {
   "cell_type": "code",
   "execution_count": 5,
   "metadata": {},
   "outputs": [],
   "source": [
    "# Your code here\n",
    "from sklearn.preprocessing import StandardScaler\n",
    "\n",
    "scaler = StandardScaler()\n",
    "\n",
    "scaler.fit(X_train)\n",
    "X_train_scaled = scaler.transform(X_train)\n",
    "X_test_scaled = scaler.transform(X_test)"
   ]
  },
  {
   "cell_type": "markdown",
   "metadata": {},
   "source": [
    "The following code checks that everything is set up correctly:"
   ]
  },
  {
   "cell_type": "code",
   "execution_count": 6,
   "metadata": {},
   "outputs": [],
   "source": [
    "# Run this cell without changes\n",
    "\n",
    "# Checking that df was separated into correct X and y\n",
    "assert type(X) == pd.DataFrame and X.shape == (38501, 52)\n",
    "assert type(y) == pd.Series and y.shape == (38501,)\n",
    "\n",
    "# Checking the train-test split\n",
    "assert type(X_train) == pd.DataFrame and X_train.shape == (28875, 52)\n",
    "assert type(X_test) == pd.DataFrame and X_test.shape == (9626, 52)\n",
    "assert type(y_train) == pd.Series and y_train.shape == (28875,)\n",
    "assert type(y_test) == pd.Series and y_test.shape == (9626,)\n",
    "\n",
    "# Checking the scaling\n",
    "assert X_train_scaled.shape == X_train.shape\n",
    "assert round(X_train_scaled[0][0], 3) == -0.636\n",
    "assert X_test_scaled.shape == X_test.shape\n",
    "assert round(X_test_scaled[0][0], 3) == -1.370"
   ]
  },
  {
   "cell_type": "markdown",
   "metadata": {},
   "source": [
    "## 2. Build a Baseline kNN Model\n",
    "\n",
    "Build a scikit-learn kNN model with default hyperparameters. Then use `cross_val_score` with `scoring=\"neg_log_loss\"` to find the mean log loss for this model (passing in `X_train_scaled` and `y_train` to `cross_val_score`). You'll need to find the mean of the cross-validated scores, and negate the value (either put a `-` at the beginning or multiply by `-1`) so that your answer is a log loss rather than a negative log loss.\n",
    "\n",
    "Call the resulting score `knn_baseline_log_loss`.\n",
    "\n",
    "Your code might take a minute or more to run."
   ]
  },
  {
   "cell_type": "code",
   "execution_count": 8,
   "metadata": {},
   "outputs": [
    {
     "data": {
      "text/plain": [
       "0.1255288892455634"
      ]
     },
     "execution_count": 8,
     "metadata": {},
     "output_type": "execute_result"
    }
   ],
   "source": [
    "# Replace None with appropriate code\n",
    "\n",
    "# Relevant imports\n",
    "from sklearn.neighbors import KNeighborsClassifier\n",
    "from sklearn.model_selection import cross_val_score\n",
    "\n",
    "# Creating the model\n",
    "knn_baseline_model = KNeighborsClassifier()\n",
    "\n",
    "# Perform cross-validation\n",
    "knn_baseline_log_loss = -cross_val_score(knn_baseline_model, X_train_scaled, y_train, scoring=\"neg_log_loss\").mean()\n",
    "\n",
    "knn_baseline_log_loss"
   ]
  },
  {
   "cell_type": "markdown",
   "metadata": {},
   "source": [
    "Our best logistic regression model had a log loss of 0.13031294393913376\n",
    "\n",
    "Is this model better? Compare it in terms of metrics and speed."
   ]
  },
  {
   "cell_type": "code",
   "execution_count": null,
   "metadata": {},
   "outputs": [],
   "source": [
    "# Replace None with appropriate text\n",
    "\"\"\"\n",
    "The value was a little lower for the kNN model compared to the logistic regression model, showing an improvement in the\n",
    "model.\n",
    "This did take over a minute to run on my laptop, which was slower than the logistic regression.\n",
    "\"\"\""
   ]
  },
  {
   "cell_type": "markdown",
   "metadata": {},
   "source": [
    "## 3. Build Iterative Models to Find the Best kNN Model\n",
    "\n",
    "Build and evaluate at least two more kNN models to find the best one. Explain why you are changing the hyperparameters you are changing as you go. These models will be *slow* to run, so be thinking about what you might try next as you run them."
   ]
  },
  {
   "cell_type": "markdown",
   "metadata": {},
   "source": [
    "First, I am going to loop through several values of k. The k hyperparameter has a major effect on whether the model is underfitting or overfitting."
   ]
  },
  {
   "cell_type": "code",
   "execution_count": 10,
   "metadata": {},
   "outputs": [
    {
     "name": "stdout",
     "output_type": "stream",
     "text": [
      "1 0.49521049185151506\n",
      "3 0.17451432403739855\n",
      "5 0.1255288892455634\n",
      "7 0.0895925912090358\n",
      "9 0.07966757716809988\n",
      "11 0.07273052026135858\n",
      "13 0.06972901169429604\n",
      "15 0.06722997851589525\n",
      "17 0.06376302967813\n",
      "19 0.0633161801415997\n",
      "21 0.06505037780145134\n",
      "Best k: 19\n",
      "Best log loss: 0.0633161801415997\n"
     ]
    }
   ],
   "source": [
    "# Your code here (add more cells as needed)\n",
    "min_k, max_k = 1, 21\n",
    "k = min_k\n",
    "\n",
    "k_results = []\n",
    "\n",
    "best_k = 1\n",
    "best_log_loss = 100.0\n",
    "while k <= max_k:\n",
    "    knn_model = KNeighborsClassifier(n_neighbors=k)\n",
    "    knn_log_loss = -cross_val_score(knn_model, X_train_scaled, y_train, scoring=\"neg_log_loss\").mean()\n",
    "    \n",
    "    if knn_log_loss < best_log_loss:\n",
    "        best_k = k\n",
    "        best_log_loss = knn_log_loss\n",
    "        \n",
    "    k_results.append([k, knn_log_loss])\n",
    "    print(k, knn_log_loss)\n",
    "    \n",
    "    k += 2\n",
    "print(f\"Best k: {best_k}\")\n",
    "print(f\"Best log loss: {best_log_loss}\")"
   ]
  },
  {
   "cell_type": "code",
   "execution_count": 14,
   "metadata": {},
   "outputs": [],
   "source": [
    "import matplotlib.pyplot as plt\n",
    "import numpy as np"
   ]
  },
  {
   "cell_type": "code",
   "execution_count": 15,
   "metadata": {},
   "outputs": [
    {
     "data": {
      "text/plain": [
       "Text(0, 0.5, 'Log Loss')"
      ]
     },
     "execution_count": 15,
     "metadata": {},
     "output_type": "execute_result"
    },
    {
     "data": {
      "image/png": "[encoded data removed]",
      "text/plain": [
       "<Figure size 432x432 with 1 Axes>"
      ]
     },
     "metadata": {
      "needs_background": "light"
     },
     "output_type": "display_data"
    }
   ],
   "source": [
    "fig, ax = plt.subplots(figsize=(6,6))\n",
    "\n",
    "k_results = np.array(k_results)\n",
    "\n",
    "ax.plot(k_results[:,0],k_results[:,1])\n",
    "ax.set_xlabel('k')\n",
    "ax.set_ylabel('Log Loss')"
   ]
  },
  {
   "cell_type": "markdown",
   "metadata": {},
   "source": [
    "Next, I try out different values for the metric exponent. I use the best k value that I found from the previous search."
   ]
  },
  {
   "cell_type": "code",
   "execution_count": 16,
   "metadata": {},
   "outputs": [
    {
     "name": "stdout",
     "output_type": "stream",
     "text": [
      "1 0.061214951514946325\n",
      "1.5 0.06337367550589328\n",
      "2.0 0.0633161801415997\n",
      "2.5 0.06674078378419114\n",
      "3.0 0.06873177825082794\n",
      "3.5 0.07264705843828806\n",
      "Best p: 1\n",
      "Best log loss: 0.061214951514946325\n"
     ]
    }
   ],
   "source": [
    "# Your code here (add more cells as needed)\n",
    "min_p, max_p = 1, 3.5\n",
    "delta_p = 0.5\n",
    "p = min_p\n",
    "\n",
    "p_results = []\n",
    "\n",
    "best_p = 1\n",
    "best_log_loss = 100.0\n",
    "while p <= max_p:\n",
    "    knn_model = KNeighborsClassifier(p=p, n_neighbors=best_k)\n",
    "    knn_log_loss = -cross_val_score(knn_model, X_train_scaled, y_train, scoring=\"neg_log_loss\").mean()\n",
    "    \n",
    "    if knn_log_loss < best_log_loss:\n",
    "        best_p = p\n",
    "        best_log_loss = knn_log_loss\n",
    "        \n",
    "    p_results.append([p, knn_log_loss])\n",
    "    print(p, knn_log_loss)\n",
    "    \n",
    "    p += delta_p\n",
    "print(f\"Best p: {best_p}\")\n",
    "print(f\"Best log loss: {best_log_loss}\")"
   ]
  },
  {
   "cell_type": "code",
   "execution_count": 17,
   "metadata": {},
   "outputs": [
    {
     "data": {
      "text/plain": [
       "Text(0, 0.5, 'Log Loss')"
      ]
     },
     "execution_count": 17,
     "metadata": {},
     "output_type": "execute_result"
    },
    {
     "data": {
      "image/png": "[encoded data removed]",
      "text/plain": [
       "<Figure size 432x432 with 1 Axes>"
      ]
     },
     "metadata": {
      "needs_background": "light"
     },
     "output_type": "display_data"
    }
   ],
   "source": [
    "# Your code here (add more cells as needed)\n",
    "fig, ax = plt.subplots(figsize=(6,6))\n",
    "\n",
    "p_results = np.array(p_results)\n",
    "\n",
    "ax.plot(p_results[:,0],p_results[:,1])\n",
    "ax.set_xlabel('p')\n",
    "ax.set_ylabel('Log Loss')"
   ]
  },
  {
   "cell_type": "markdown",
   "metadata": {},
   "source": [
    "The best kNN model had k=19 and p=1."
   ]
  },
  {
   "cell_type": "markdown",
   "metadata": {},
   "source": [
    "## 4. Build a Baseline Decision Tree Model\n",
    "\n",
    "Now that you have chosen your best kNN model, start investigating decision tree models. First, build and evaluate a baseline decision tree model, using default hyperparameters (with the exception of `random_state=42` for reproducibility).\n",
    "\n",
    "(Use cross-validated log loss, just like with the previous models.)"
   ]
  },
  {
   "cell_type": "code",
   "execution_count": 18,
   "metadata": {},
   "outputs": [],
   "source": [
    "# Your code here\n",
    "from sklearn.tree import DecisionTreeClassifier"
   ]
  },
  {
   "cell_type": "code",
   "execution_count": 19,
   "metadata": {},
   "outputs": [
    {
     "data": {
      "text/plain": [
       "0.7057351605151588"
      ]
     },
     "execution_count": 19,
     "metadata": {},
     "output_type": "execute_result"
    }
   ],
   "source": [
    "dtc_baseline_model = DecisionTreeClassifier(random_state=42)\n",
    "dtc_log_loss = -cross_val_score(dtc_baseline_model, X_train_scaled, y_train, scoring=\"neg_log_loss\").mean()\n",
    "dtc_log_loss"
   ]
  },
  {
   "cell_type": "markdown",
   "metadata": {},
   "source": [
    "Interpret this score. How does this compare to the log loss from our best logistic regression and best kNN models? Any guesses about why?"
   ]
  },
  {
   "cell_type": "code",
   "execution_count": null,
   "metadata": {},
   "outputs": [],
   "source": [
    "# Replace None with appropriate text\n",
    "\"\"\"\n",
    "This number is quite a bit higher than the kNN models tried out before. This might be because the default values for the\n",
    "decision tree model are not as good as the default parameters for the kNN model.\n",
    "\"\"\""
   ]
  },
  {
   "cell_type": "markdown",
   "metadata": {},
   "source": [
    "## 5. Build Iterative Models to Find the Best Decision Tree Model\n",
    "\n",
    "Build and evaluate at least two more decision tree models to find the best one. Explain why you are changing the hyperparameters you are changing as you go."
   ]
  },
  {
   "cell_type": "markdown",
   "metadata": {},
   "source": [
    "The hyperparameters we have adjusted in other notebooks were max_depth, min_sample_split, and min_sample_leaf. These are the main ones I am going to try.\n",
    "I am going to try a grid search."
   ]
  },
  {
   "cell_type": "code",
   "execution_count": 23,
   "metadata": {},
   "outputs": [
    {
     "name": "stdout",
     "output_type": "stream",
     "text": [
      "None 2 1 0.7057351605151588\n",
      "None 2 2 0.5527438012077219\n",
      "None 2 4 0.43413184052564013\n",
      "None 2 8 0.3057997757879233\n",
      "None 4 1 0.6514133350192396\n",
      "None 4 2 0.5527438012077219\n",
      "None 4 4 0.43413184052564013\n",
      "None 4 8 0.3057997757879233\n",
      "None 8 1 0.5396364169653544\n",
      "None 8 2 0.47055065845242144\n",
      "None 8 4 0.43413184052564013\n",
      "None 8 8 0.3057997757879233\n",
      "None 16 1 0.44077609491819414\n",
      "None 16 2 0.37649431868127775\n",
      "None 16 4 0.3417235468080988\n",
      "None 16 8 0.3057997757879233\n",
      "4 2 1 0.13012531033354707\n",
      "4 2 2 0.13012531033354707\n",
      "4 2 4 0.13012531033354707\n",
      "4 2 8 0.13012531033354707\n",
      "4 4 1 0.13012531033354707\n",
      "4 4 2 0.13012531033354707\n",
      "4 4 4 0.13012531033354707\n",
      "4 4 8 0.13012531033354707\n",
      "4 8 1 0.13012531033354707\n",
      "4 8 2 0.13012531033354707\n",
      "4 8 4 0.13012531033354707\n",
      "4 8 8 0.13012531033354707\n",
      "4 16 1 0.13012531033354707\n",
      "4 16 2 0.13012531033354707\n",
      "4 16 4 0.13012531033354707\n",
      "4 16 8 0.13012531033354707\n",
      "8 2 1 0.1843390271598817\n",
      "8 2 2 0.1737448977581874\n",
      "8 2 4 0.1569797878827517\n",
      "8 2 8 0.12673617103183737\n",
      "8 4 1 0.17625470976039767\n",
      "8 4 2 0.1737448977581874\n",
      "8 4 4 0.1569797878827517\n",
      "8 4 8 0.12673617103183737\n",
      "8 8 1 0.16975497518773325\n",
      "8 8 2 0.15180387666607484\n",
      "8 8 4 0.1569797878827517\n",
      "8 8 8 0.12673617103183737\n",
      "8 16 1 0.14798763357024775\n",
      "8 16 2 0.14289347799037622\n",
      "8 16 4 0.14180786407270296\n",
      "8 16 8 0.12673617103183737\n",
      "12 2 1 0.5151004633284038\n",
      "12 2 2 0.4317041237703867\n",
      "12 2 4 0.3468407351516754\n",
      "12 2 8 0.24727987316228184\n",
      "12 4 1 0.47027831529284086\n",
      "12 4 2 0.4317041237703867\n",
      "12 4 4 0.3468407351516754\n",
      "12 4 8 0.24727987316228184\n",
      "12 8 1 0.41945431512053555\n",
      "12 8 2 0.39826403028933455\n",
      "12 8 4 0.3468407351516754\n",
      "12 8 8 0.24727987316228184\n",
      "12 16 1 0.3459744984103247\n",
      "12 16 2 0.3143199874792592\n",
      "12 16 4 0.2780706792407521\n",
      "12 16 8 0.24727987316228184\n",
      "Best Combination:\n",
      "Max Depth: 8\n",
      "Min Samples Split: 2\n",
      "Min Samples Leaf: 8\n",
      "Best Log Loss: 0.12673617103183737\n"
     ]
    }
   ],
   "source": [
    "# Your code here (add more cells as needed)\n",
    "max_depth = [None,4,8,12]\n",
    "min_samples_split = [2,4,8,16]\n",
    "min_samples_leaf = [1,2,4,8]\n",
    "\n",
    "best_combo = [0,0,0]\n",
    "best_log_loss = 100.0\n",
    "\n",
    "n_combos = len(max_depth)*len(min_samples_split)*len(min_samples_leaf)\n",
    "n = 0\n",
    "while n < n_combos:\n",
    "    i = n // (len(min_samples_split)*len(min_samples_leaf))\n",
    "    j = (n // len(min_samples_leaf)) % len(min_samples_split)\n",
    "    k = n % len(min_samples_leaf)\n",
    "    \n",
    "    dtc_model = DecisionTreeClassifier(\n",
    "        random_state=42, \n",
    "        max_depth=max_depth[i], \n",
    "        min_samples_split=min_samples_split[j], \n",
    "        min_samples_leaf=min_samples_leaf[k])\n",
    "    \n",
    "    dtc_log_loss = -cross_val_score(dtc_model, X_train_scaled, y_train, scoring=\"neg_log_loss\").mean()\n",
    "    \n",
    "    if dtc_log_loss < best_log_loss:\n",
    "        best_combo = [i,j,k]\n",
    "        best_log_loss = dtc_log_loss\n",
    "        \n",
    "    print(max_depth[i], min_samples_split[j], min_samples_leaf[k], dtc_log_loss)\n",
    "    n += 1\n",
    "\n",
    "print(f\"Best Combination:\")\n",
    "print(f\"Max Depth: {max_depth[best_combo[0]]}\")\n",
    "print(f\"Min Samples Split: {min_samples_split[best_combo[1]]}\")\n",
    "print(f\"Min Samples Leaf: {min_samples_leaf[best_combo[2]]}\")\n",
    "print(f\"Best Log Loss: {best_log_loss}\")"
   ]
  },
  {
   "cell_type": "markdown",
   "metadata": {},
   "source": [
    "The first grid search showed that the best log loss came from a max depth of 8, and minimum samples per leaf of 8. The value of min samples to split did not affect the log loss for these cases.\n",
    "Now I am going to do a finer grid search around these values."
   ]
  },
  {
   "cell_type": "code",
   "execution_count": 25,
   "metadata": {
    "scrolled": false
   },
   "outputs": [
    {
     "name": "stdout",
     "output_type": "stream",
     "text": [
      "5 2 5 0.11697046090153682\n",
      "5 2 6 0.116863716227443\n",
      "5 2 7 0.1181739737562161\n",
      "5 2 8 0.11706986053338549\n",
      "5 2 9 0.11594227169091131\n",
      "5 2 10 0.11606906959187682\n",
      "5 4 5 0.11697046090153682\n",
      "5 4 6 0.116863716227443\n",
      "5 4 7 0.1181739737562161\n",
      "5 4 8 0.11706986053338549\n",
      "5 4 9 0.11594227169091131\n",
      "5 4 10 0.11606906959187682\n",
      "5 8 5 0.11697046090153682\n",
      "5 8 6 0.116863716227443\n",
      "5 8 7 0.1181739737562161\n",
      "5 8 8 0.11706986053338549\n",
      "5 8 9 0.11594227169091131\n",
      "5 8 10 0.11606906959187682\n",
      "5 16 5 0.11697046090153682\n",
      "5 16 6 0.116863716227443\n",
      "5 16 7 0.1181739737562161\n",
      "5 16 8 0.11706986053338549\n",
      "5 16 9 0.11594227169091131\n",
      "5 16 10 0.11606906959187682\n",
      "6 2 5 0.11152771662265112\n",
      "6 2 6 0.11218849944037271\n",
      "6 2 7 0.11239484485977813\n",
      "6 2 8 0.108695596697212\n",
      "6 2 9 0.11426080306324297\n",
      "6 2 10 0.11112035610833775\n",
      "6 4 5 0.11152771662265112\n",
      "6 4 6 0.11218849944037271\n",
      "6 4 7 0.11239484485977813\n",
      "6 4 8 0.108695596697212\n",
      "6 4 9 0.11426080306324297\n",
      "6 4 10 0.11112035610833775\n",
      "6 8 5 0.11152771662265112\n",
      "6 8 6 0.11218849944037271\n",
      "6 8 7 0.11239484485977813\n",
      "6 8 8 0.108695596697212\n",
      "6 8 9 0.11426080306324297\n",
      "6 8 10 0.11112035610833775\n",
      "6 16 5 0.11152771662265112\n",
      "6 16 6 0.11218849944037271\n",
      "6 16 7 0.11239484485977813\n",
      "6 16 8 0.108695596697212\n",
      "6 16 9 0.11426080306324297\n",
      "6 16 10 0.11112035610833775\n",
      "7 2 5 0.13004276397621176\n",
      "7 2 6 0.12298443763350878\n",
      "7 2 7 0.12209631252725109\n",
      "7 2 8 0.1174107756738969\n",
      "7 2 9 0.11452486698409489\n",
      "7 2 10 0.1264276588852763\n",
      "7 4 5 0.13004276397621176\n",
      "7 4 6 0.12298443763350878\n",
      "7 4 7 0.12209631252725109\n",
      "7 4 8 0.1174107756738969\n",
      "7 4 9 0.11452486698409489\n",
      "7 4 10 0.1264276588852763\n",
      "7 8 5 0.13004276397621176\n",
      "7 8 6 0.12298443763350878\n",
      "7 8 7 0.12209631252725109\n",
      "7 8 8 0.1174107756738969\n",
      "7 8 9 0.11452486698409489\n",
      "7 8 10 0.1264276588852763\n",
      "7 16 5 0.11963575513891826\n",
      "7 16 6 0.11968252189022624\n",
      "7 16 7 0.11861642483615742\n",
      "7 16 8 0.1174107756738969\n",
      "7 16 9 0.11452486698409489\n",
      "7 16 10 0.1264276588852763\n",
      "8 2 5 0.15557518915656626\n",
      "8 2 6 0.1496358886845508\n",
      "8 2 7 0.1388581956930984\n",
      "8 2 8 0.12673617103183737\n",
      "8 2 9 0.12541117593024925\n",
      "8 2 10 0.1348005916825664\n",
      "8 4 5 0.15557518915656626\n",
      "8 4 6 0.1496358886845508\n",
      "8 4 7 0.1388581956930984\n",
      "8 4 8 0.12673617103183737\n",
      "8 4 9 0.12541117593024925\n",
      "8 4 10 0.1348005916825664\n",
      "8 8 5 0.15557518915656626\n",
      "8 8 6 0.1496358886845508\n",
      "8 8 7 0.1388581956930984\n",
      "8 8 8 0.12673617103183737\n",
      "8 8 9 0.12541117593024925\n",
      "8 8 10 0.1348005916825664\n",
      "8 16 5 0.1470370799493387\n",
      "8 16 6 0.1350272718122431\n",
      "8 16 7 0.13524228069981287\n",
      "8 16 8 0.12673617103183737\n",
      "8 16 9 0.12541117593024925\n",
      "8 16 10 0.1348005916825664\n",
      "9 2 5 0.2114508057848692\n",
      "9 2 6 0.18492401810537212\n",
      "9 2 7 0.17635367802117852\n",
      "9 2 8 0.16517471134585435\n",
      "9 2 9 0.16147528319608642\n",
      "9 2 10 0.1646069341937572\n",
      "9 4 5 0.2114508057848692\n",
      "9 4 6 0.18492401810537212\n",
      "9 4 7 0.17635367802117852\n",
      "9 4 8 0.16517471134585435\n",
      "9 4 9 0.16147528319608642\n",
      "9 4 10 0.1646069341937572\n",
      "9 8 5 0.2114508057848692\n",
      "9 8 6 0.18492401810537212\n",
      "9 8 7 0.17635367802117852\n",
      "9 8 8 0.16517471134585435\n",
      "9 8 9 0.16147528319608642\n",
      "9 8 10 0.1646069341937572\n",
      "9 16 5 0.18024353420848005\n",
      "9 16 6 0.168555031427027\n",
      "9 16 7 0.1741791163718887\n",
      "9 16 8 0.16517471134585435\n",
      "9 16 9 0.16147528319608642\n",
      "9 16 10 0.1646069341937572\n",
      "10 2 5 0.2412189862955366\n",
      "10 2 6 0.22057360826025735\n",
      "10 2 7 0.20436516424013548\n",
      "10 2 8 0.19251762321964855\n",
      "10 2 9 0.18220843779807405\n",
      "10 2 10 0.19772533540500106\n",
      "10 4 5 0.2412189862955366\n",
      "10 4 6 0.22057360826025735\n",
      "10 4 7 0.20436516424013548\n",
      "10 4 8 0.19251762321964855\n",
      "10 4 9 0.18220843779807405\n",
      "10 4 10 0.19772533540500106\n",
      "10 8 5 0.2412189862955366\n",
      "10 8 6 0.22057360826025735\n",
      "10 8 7 0.20436516424013548\n",
      "10 8 8 0.19251762321964855\n",
      "10 8 9 0.18220843779807405\n",
      "10 8 10 0.19772533540500106\n",
      "10 16 5 0.21491908884289573\n",
      "10 16 6 0.20597037639930735\n",
      "10 16 7 0.19990179519297385\n",
      "10 16 8 0.19251762321964855\n",
      "10 16 9 0.18220843779807405\n",
      "10 16 10 0.19772533540500106\n",
      "Best Combination:\n",
      "Max Depth: 6\n",
      "Min Samples Split: 2\n",
      "Min Samples Leaf: 8\n",
      "Best Log Loss: 0.108695596697212\n"
     ]
    }
   ],
   "source": [
    "# Your code here (add more cells as needed)\n",
    "max_depth = [5,6,7,8,9,10]\n",
    "min_samples_split = [2,4,8,16]\n",
    "min_samples_leaf = [5,6,7,8,9,10]\n",
    "\n",
    "best_combo = [0,0,0]\n",
    "best_log_loss = 100.0\n",
    "\n",
    "n_combos = len(max_depth)*len(min_samples_split)*len(min_samples_leaf)\n",
    "n = 0\n",
    "while n < n_combos:\n",
    "    i = n // (len(min_samples_split)*len(min_samples_leaf))\n",
    "    j = (n // len(min_samples_leaf)) % len(min_samples_split)\n",
    "    k = n % len(min_samples_leaf)\n",
    "    \n",
    "    dtc_model = DecisionTreeClassifier(\n",
    "        random_state=42, \n",
    "        max_depth=max_depth[i], \n",
    "        min_samples_split=min_samples_split[j], \n",
    "        min_samples_leaf=min_samples_leaf[k])\n",
    "    \n",
    "    dtc_log_loss = -cross_val_score(dtc_model, X_train_scaled, y_train, scoring=\"neg_log_loss\").mean()\n",
    "    \n",
    "    if dtc_log_loss < best_log_loss:\n",
    "        best_combo = [i,j,k]\n",
    "        best_log_loss = dtc_log_loss\n",
    "        \n",
    "    print(max_depth[i], min_samples_split[j], min_samples_leaf[k], dtc_log_loss)\n",
    "    n += 1\n",
    "\n",
    "print(f\"Best Combination:\")\n",
    "print(f\"Max Depth: {max_depth[best_combo[0]]}\")\n",
    "print(f\"Min Samples Split: {min_samples_split[best_combo[1]]}\")\n",
    "print(f\"Min Samples Leaf: {min_samples_leaf[best_combo[2]]}\")\n",
    "print(f\"Best Log Loss: {best_log_loss}\")"
   ]
  },
  {
   "cell_type": "code",
   "execution_count": null,
   "metadata": {},
   "outputs": [],
   "source": [
    "The second grid search found that a max_depth of 6 is even better than a max_depth of 8.\n",
    "The best min_samples_leaf is still 8.\n",
    "The value of min_samples_split did not affect the result. It is fine to just use the default value.\n",
    "\n",
    "The best log loss was still achieved by the kNN model."
   ]
  },
  {
   "cell_type": "markdown",
   "metadata": {},
   "source": [
    "## 6. Choose and Evaluate an Overall Best Model\n",
    "\n",
    "Which model had the best performance? What type of model was it?\n",
    "\n",
    "Instantiate a variable `final_model` using your best model with the best hyperparameters."
   ]
  },
  {
   "cell_type": "code",
   "execution_count": 28,
   "metadata": {},
   "outputs": [
    {
     "data": {
      "text/plain": [
       "KNeighborsClassifier(n_neighbors=19, p=1)"
      ]
     },
     "execution_count": 28,
     "metadata": {},
     "output_type": "execute_result"
    }
   ],
   "source": [
    "# Replace None with appropriate code\n",
    "final_model = KNeighborsClassifier(p=1, n_neighbors=19)\n",
    "\n",
    "# Fit the model on the full training data\n",
    "# (scaled or unscaled depending on the model)\n",
    "final_model.fit(X_train_scaled, y_train)"
   ]
  },
  {
   "cell_type": "markdown",
   "metadata": {},
   "source": [
    "Now, evaluate the log loss, accuracy, precision, and recall. This code is mostly filled in for you, but you need to replace `None` with either `X_test` or `X_test_scaled` depending on the model you chose."
   ]
  },
  {
   "cell_type": "code",
   "execution_count": 30,
   "metadata": {},
   "outputs": [
    {
     "name": "stdout",
     "output_type": "stream",
     "text": [
      "log loss:  0.06448869420648831\n",
      "accuracy:  0.9779763141491793\n",
      "precision: 0.9018612521150592\n",
      "recall:    0.7758369723435226\n"
     ]
    }
   ],
   "source": [
    "# Replace None with appropriate code\n",
    "from sklearn.metrics import log_loss, accuracy_score, precision_score, recall_score\n",
    "\n",
    "preds = final_model.predict(X_test_scaled)\n",
    "probs = final_model.predict_proba(X_test_scaled)\n",
    "\n",
    "print(\"log loss: \", log_loss(y_test, probs))\n",
    "print(\"accuracy: \", accuracy_score(y_test, preds))\n",
    "print(\"precision:\", precision_score(y_test, preds))\n",
    "print(\"recall:   \", recall_score(y_test, preds))"
   ]
  },
  {
   "cell_type": "code",
   "execution_count": 36,
   "metadata": {},
   "outputs": [
    {
     "data": {
      "text/plain": [
       "<sklearn.metrics._plot.confusion_matrix.ConfusionMatrixDisplay at 0x28835964190>"
      ]
     },
     "execution_count": 36,
     "metadata": {},
     "output_type": "execute_result"
    },
    {
     "data": {
      "image/png": "[encoded data removed]",
      "text/plain": [
       "<Figure size 432x288 with 2 Axes>"
      ]
     },
     "metadata": {
      "needs_background": "light"
     },
     "output_type": "display_data"
    }
   ],
   "source": [
    "from sklearn.metrics import confusion_matrix, ConfusionMatrixDisplay\n",
    "\n",
    "cf = confusion_matrix(y_test, preds)\n",
    "\n",
    "disp = ConfusionMatrixDisplay(cf)\n",
    "disp.plot()"
   ]
  },
  {
   "cell_type": "markdown",
   "metadata": {},
   "source": [
    "Interpret your model performance. How would it perform on different kinds of tasks? How much better is it than a \"dummy\" model that always chooses the majority class, or the logistic regression described at the start of the lab?"
   ]
  },
  {
   "cell_type": "code",
   "execution_count": null,
   "metadata": {},
   "outputs": [],
   "source": [
    "# Replace None with appropriate text\n",
    "\"\"\"\n",
    "The log loss was quite similar to what the cross validation tests achieved, which is a good sign. It indicates we were not\n",
    "overfitting or underfitting.\n",
    "\n",
    "The dummy model that always predicts the majority class would have 92.9% accuracy. This model is better at 97.8% accuracy.\n",
    "It is also better than the logistic regression model that had an accuracy of 94.6%.\n",
    "\n",
    "The precision is 90.2%, which means that about 90% of the positive predictions actually turn out to be positive. This is much\n",
    "better than the logistic regression model that only had 67% precision.\n",
    "\n",
    "The recall is 77.6%, which means that the model is able to correctly classify about 78% of the actual positive cases.\n",
    "This is also a big improvement over the logistic regression model which only had 48% recall.\n",
    "\n",
    "This model does a better job of avoiding false positives than false negatives because the precision is higher than the\n",
    "recall. This means this model is less likely to call a ponderosa pine a cottonwood/willow than it is to do the opposite.\n",
    "This is good if calling a pine a cottonwood/willow is bad, but if it is more important to identify all the cottonwood/willow\n",
    "cases (even if it means incorrectly classifying some pines), then this model does not do as well as we might like.\n",
    "\"\"\""
   ]
  },
  {
   "cell_type": "markdown",
   "metadata": {},
   "source": [
    "## Conclusion\n",
    "\n",
    "In this lab, you practiced the end-to-end machine learning process with multiple model algorithms, including tuning the hyperparameters for those different algorithms. You saw how nonparametric models can be more flexible than linear models, potentially leading to overfitting but also potentially reducing underfitting by being able to learn non-linear relationships between variables. You also likely saw how there can be a tradeoff between speed and performance, with good metrics correlating with slow speeds."
   ]
  }
 ],
 "metadata": {
  "kernelspec": {
   "display_name": "Python (learn-env)",
   "language": "python",
   "name": "learn-env"
  },
  "language_info": {
   "codemirror_mode": {
    "name": "ipython",
    "version": 3
   },
   "file_extension": ".py",
   "mimetype": "text/x-python",
   "name": "python",
   "nbconvert_exporter": "python",
   "pygments_lexer": "ipython3",
   "version": "3.8.5"
  }
 },
 "nbformat": 4,
 "nbformat_minor": 4
}
